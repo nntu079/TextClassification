{
  "nbformat": 4,
  "nbformat_minor": 0,
  "metadata": {
    "colab": {
      "name": "final_code",
      "provenance": [],
      "collapsed_sections": [],
      "include_colab_link": true
    },
    "kernelspec": {
      "display_name": "Python 3",
      "name": "python3"
    }
  },
  "cells": [
    {
      "cell_type": "markdown",
      "metadata": {
        "id": "view-in-github",
        "colab_type": "text"
      },
      "source": [
        "<a href=\"https://colab.research.google.com/github/nntu079/TextClassification/blob/main/final_code.ipynb\" target=\"_parent\"><img src=\"https://colab.research.google.com/assets/colab-badge.svg\" alt=\"Open In Colab\"/></a>"
      ]
    },
    {
      "cell_type": "code",
      "metadata": {
        "id": "5zjewom1R0LA",
        "outputId": "7f8ac5e2-1f60-48a9-c87b-01113de59d2f",
        "colab": {
          "base_uri": "https://localhost:8080/",
          "height": 124
        }
      },
      "source": [
        "#LOAD DATA\n",
        "from sklearn.datasets import fetch_20newsgroups\n",
        "news = fetch_20newsgroups(subset='all') \n",
        " \n",
        "print(\"Number of articles: \" + str(len(news.data)))             \n",
        "print(\"Number of diffrent categories: \" + str(len(news.target_names))) \n",
        "print(news.target_names)"
      ],
      "execution_count": null,
      "outputs": [
        {
          "output_type": "stream",
          "text": [
            "Downloading 20news dataset. This may take a few minutes.\n",
            "Downloading dataset from https://ndownloader.figshare.com/files/5975967 (14 MB)\n"
          ],
          "name": "stderr"
        },
        {
          "output_type": "stream",
          "text": [
            "Number of articles: 18846\n",
            "Number of diffrent categories: 20\n",
            "['alt.atheism', 'comp.graphics', 'comp.os.ms-windows.misc', 'comp.sys.ibm.pc.hardware', 'comp.sys.mac.hardware', 'comp.windows.x', 'misc.forsale', 'rec.autos', 'rec.motorcycles', 'rec.sport.baseball', 'rec.sport.hockey', 'sci.crypt', 'sci.electronics', 'sci.med', 'sci.space', 'soc.religion.christian', 'talk.politics.guns', 'talk.politics.mideast', 'talk.politics.misc', 'talk.religion.misc']\n"
          ],
          "name": "stdout"
        }
      ]
    },
    {
      "cell_type": "code",
      "metadata": {
        "id": "hd2_RiMFYYbV"
      },
      "source": [
        "#SPLIT DATA\n",
        "from sklearn.model_selection import train_test_split\n",
        "X_train, X_test, y_train, y_test = train_test_split(news.data, news.target, test_size=0.2, random_state=11)"
      ],
      "execution_count": null,
      "outputs": []
    },
    {
      "cell_type": "code",
      "metadata": {
        "id": "HxgXYTbPYl_D",
        "outputId": "b5ba03c1-ef3d-4036-da4b-a0d7be0c0cef",
        "colab": {
          "base_uri": "https://localhost:8080/",
          "height": 89
        }
      },
      "source": [
        "#Them cac thu vien can thiet de co \"feature vector\"\n",
        "import nltk\n",
        "nltk.download('stopwords') #download stopwords\n",
        "from nltk.corpus import stopwords \n",
        "from sklearn.feature_extraction.text import TfidfVectorizer\n",
        "\n",
        "print(stopwords.words('english'))"
      ],
      "execution_count": null,
      "outputs": [
        {
          "output_type": "stream",
          "text": [
            "[nltk_data] Downloading package stopwords to /root/nltk_data...\n",
            "[nltk_data]   Unzipping corpora/stopwords.zip.\n",
            "['i', 'me', 'my', 'myself', 'we', 'our', 'ours', 'ourselves', 'you', \"you're\", \"you've\", \"you'll\", \"you'd\", 'your', 'yours', 'yourself', 'yourselves', 'he', 'him', 'his', 'himself', 'she', \"she's\", 'her', 'hers', 'herself', 'it', \"it's\", 'its', 'itself', 'they', 'them', 'their', 'theirs', 'themselves', 'what', 'which', 'who', 'whom', 'this', 'that', \"that'll\", 'these', 'those', 'am', 'is', 'are', 'was', 'were', 'be', 'been', 'being', 'have', 'has', 'had', 'having', 'do', 'does', 'did', 'doing', 'a', 'an', 'the', 'and', 'but', 'if', 'or', 'because', 'as', 'until', 'while', 'of', 'at', 'by', 'for', 'with', 'about', 'against', 'between', 'into', 'through', 'during', 'before', 'after', 'above', 'below', 'to', 'from', 'up', 'down', 'in', 'out', 'on', 'off', 'over', 'under', 'again', 'further', 'then', 'once', 'here', 'there', 'when', 'where', 'why', 'how', 'all', 'any', 'both', 'each', 'few', 'more', 'most', 'other', 'some', 'such', 'no', 'nor', 'not', 'only', 'own', 'same', 'so', 'than', 'too', 'very', 's', 't', 'can', 'will', 'just', 'don', \"don't\", 'should', \"should've\", 'now', 'd', 'll', 'm', 'o', 're', 've', 'y', 'ain', 'aren', \"aren't\", 'couldn', \"couldn't\", 'didn', \"didn't\", 'doesn', \"doesn't\", 'hadn', \"hadn't\", 'hasn', \"hasn't\", 'haven', \"haven't\", 'isn', \"isn't\", 'ma', 'mightn', \"mightn't\", 'mustn', \"mustn't\", 'needn', \"needn't\", 'shan', \"shan't\", 'shouldn', \"shouldn't\", 'wasn', \"wasn't\", 'weren', \"weren't\", 'won', \"won't\", 'wouldn', \"wouldn't\"]\n"
          ],
          "name": "stdout"
        }
      ]
    },
    {
      "cell_type": "code",
      "metadata": {
        "id": "qxhybFeJY6fa"
      },
      "source": [
        "#feature vector\n",
        "vectorizer = TfidfVectorizer(stop_words=stopwords.words('english'),max_features=20000) #tach tu, xoa stopword, bag of word, tfidf ,giam so chieu duoc ho tro bang 1 ham\n",
        "X_train_tfidf = vectorizer.fit_transform(X_train) #(11314, 130107)\n",
        "X_test_tfidf = vectorizer.transform(X_test)"
      ],
      "execution_count": null,
      "outputs": []
    },
    {
      "cell_type": "code",
      "metadata": {
        "id": "LkzmVyEnaYld",
        "outputId": "77ae16e4-3197-4009-aff9-dc9c3c8a3fbe",
        "colab": {
          "base_uri": "https://localhost:8080/",
          "height": 320
        }
      },
      "source": [
        "#visualize datadata -> du lieu co phan tach tuyen tinh hay khong\n",
        "import matplotlib.pyplot as plt\n",
        "\n",
        "x1=[];\n",
        "y1=[]\n",
        "count=0;\n",
        "i=0;\n",
        "x_train_array=X_train_tfidf.toarray();\n",
        "x_test_array=X_test_tfidf.toarray();\n",
        "while 1:\n",
        "  if y_train[i]==16:\n",
        "    count=count+1;\n",
        "    x1.append(x_train_array[i][100]);\n",
        "    y1.append(x_train_array[i][101]);\n",
        "  i=i+1;\n",
        "  if count==500:\n",
        "    break;\n",
        "\n",
        "x2=[];\n",
        "y2=[]\n",
        "count=0;\n",
        "i=0;\n",
        "while 1:\n",
        "  if y_train[i]==10:\n",
        "    count=count+1;\n",
        "    x2.append(x_train_array[i][100]);\n",
        "    y2.append(x_train_array[i][101]);\n",
        "  i=i+1;\n",
        "  if count==500:\n",
        "    break;\n",
        "\n",
        "x3=[];\n",
        "y3=[]\n",
        "count=0;\n",
        "i=0;\n",
        "while 1:\n",
        "  if y_train[i]==15:\n",
        "    count=count+1;\n",
        "    x3.append(x_train_array[i][100]);\n",
        "    y3.append(x_train_array[i][101]);\n",
        "  i=i+1;\n",
        "  if count==500:\n",
        "    break;\n",
        "\n",
        "plt.scatter(x1,y1,color='red');\n",
        "plt.scatter(x2,y2,color='green');\n",
        "plt.scatter(x3,y3,color='blue');\n",
        "plt.show()\n",
        "\n",
        "print(x1);\n",
        "print(y1);\n"
      ],
      "execution_count": null,
      "outputs": [
        {
          "output_type": "display_data",
          "data": {
            "image/png": "[encoded data removed]",
            "text/plain": [
              "<Figure size 432x288 with 1 Axes>"
            ]
          },
          "metadata": {
            "tags": [],
            "needs_background": "light"
          }
        },
        {
          "output_type": "stream",
          "text": [
            "[0.0, 0.0, 0.0, 0.0, 0.0, 0.0, 0.0, 0.0, 0.0, 0.0, 0.0, 0.0, 0.0, 0.0, 0.0, 0.0, 0.0, 0.0, 0.0, 0.0, 0.0, 0.0, 0.0, 0.0, 0.0, 0.0, 0.0, 0.0, 0.0, 0.0, 0.0, 0.0, 0.0, 0.0, 0.0, 0.0, 0.0, 0.0, 0.0, 0.0, 0.0, 0.0, 0.0, 0.0, 0.0, 0.0, 0.0, 0.0, 0.0, 0.0, 0.0, 0.0, 0.0, 0.0, 0.0, 0.0, 0.0, 0.0, 0.0, 0.0, 0.0, 0.0, 0.0, 0.0, 0.0, 0.0, 0.0, 0.0, 0.0, 0.0, 0.0, 0.0, 0.0, 0.0, 0.0, 0.0, 0.0, 0.0, 0.0, 0.0, 0.0, 0.0, 0.0, 0.0, 0.0, 0.0, 0.0, 0.0, 0.0, 0.0, 0.0, 0.0, 0.0, 0.0, 0.0, 0.0, 0.0, 0.0, 0.0, 0.0, 0.0, 0.0, 0.0, 0.0, 0.0, 0.0, 0.0, 0.0, 0.0, 0.0, 0.0, 0.0, 0.0, 0.0, 0.0, 0.0, 0.0, 0.0, 0.0, 0.0, 0.0, 0.0, 0.0, 0.0, 0.0, 0.0, 0.0, 0.0, 0.0, 0.0, 0.0, 0.0, 0.0, 0.0, 0.0, 0.0, 0.0, 0.0, 0.0, 0.0, 0.0, 0.0, 0.0, 0.0, 0.0, 0.0, 0.0, 0.0, 0.0, 0.0, 0.0, 0.0, 0.0, 0.0, 0.0, 0.0, 0.0, 0.0, 0.0, 0.0, 0.0, 0.0, 0.0, 0.0, 0.0, 0.0, 0.0, 0.0, 0.0, 0.0, 0.0, 0.0, 0.0, 0.0, 0.0, 0.0, 0.0, 0.0, 0.0, 0.0, 0.0, 0.0, 0.0, 0.0, 0.0, 0.0, 0.0, 0.0, 0.0, 0.0, 0.0, 0.0, 0.0, 0.0, 0.0, 0.0, 0.0, 0.0, 0.0, 0.0, 0.0, 0.0, 0.0, 0.0, 0.0, 0.0, 0.0, 0.0, 0.0, 0.0, 0.0, 0.0, 0.0, 0.0, 0.0, 0.0, 0.0, 0.0, 0.0, 0.0, 0.0, 0.0, 0.0, 0.0, 0.0, 0.0, 0.0, 0.0, 0.0, 0.0, 0.0, 0.0, 0.0, 0.0, 0.0, 0.0, 0.0, 0.0, 0.0, 0.0, 0.0, 0.0, 0.0, 0.0, 0.0, 0.0, 0.0, 0.0, 0.0, 0.0, 0.0, 0.0, 0.0, 0.0, 0.0, 0.0, 0.0, 0.0, 0.0, 0.0, 0.0, 0.0, 0.0, 0.0, 0.0, 0.0, 0.0, 0.0, 0.0, 0.0, 0.0, 0.0, 0.0, 0.0, 0.0, 0.0, 0.0, 0.0, 0.0, 0.0, 0.0, 0.0, 0.0, 0.0, 0.0, 0.0, 0.0, 0.0, 0.0, 0.0, 0.0, 0.0, 0.0, 0.0, 0.0, 0.0, 0.0, 0.0, 0.0, 0.0, 0.0, 0.0, 0.0, 0.0, 0.0, 0.0, 0.0, 0.0, 0.0, 0.0, 0.0, 0.0, 0.0, 0.0, 0.0, 0.0, 0.0, 0.0, 0.0, 0.0, 0.0, 0.0, 0.0, 0.0, 0.0, 0.0, 0.0, 0.0, 0.0, 0.0, 0.0, 0.0, 0.0, 0.0, 0.0, 0.0, 0.0, 0.0, 0.0, 0.0, 0.0, 0.0, 0.0, 0.0, 0.0, 0.0, 0.0, 0.0, 0.0, 0.0, 0.0, 0.0, 0.0, 0.0, 0.0, 0.0, 0.0, 0.0, 0.0, 0.0, 0.0, 0.0, 0.0, 0.0, 0.0, 0.0, 0.0, 0.0, 0.0, 0.0, 0.0, 0.0, 0.0, 0.0, 0.0, 0.0, 0.0, 0.0, 0.0, 0.0, 0.0, 0.0, 0.0, 0.0, 0.0, 0.0, 0.0, 0.0, 0.0, 0.0, 0.0, 0.0, 0.0, 0.0, 0.0, 0.0, 0.0, 0.0, 0.0, 0.0, 0.0, 0.0, 0.0, 0.0, 0.0, 0.0, 0.0, 0.0, 0.0, 0.0, 0.0, 0.0, 0.0, 0.0, 0.0, 0.0, 0.0, 0.0, 0.0, 0.0, 0.0, 0.0, 0.0, 0.0, 0.0, 0.0, 0.0, 0.0, 0.0, 0.0, 0.0, 0.0, 0.0, 0.03996622461015173, 0.0, 0.0, 0.0, 0.0, 0.0, 0.0, 0.0, 0.0, 0.0, 0.0, 0.0, 0.0, 0.0, 0.0, 0.0, 0.0, 0.0, 0.0, 0.0, 0.0, 0.0, 0.0, 0.0, 0.0, 0.0, 0.04364670904424331, 0.0, 0.0, 0.0, 0.0, 0.0, 0.0, 0.0, 0.0, 0.0, 0.0, 0.0, 0.0, 0.0, 0.0, 0.0, 0.0, 0.0, 0.0, 0.0, 0.0, 0.0, 0.0, 0.0, 0.0, 0.0, 0.0, 0.0, 0.0, 0.0, 0.0, 0.0, 0.0, 0.0, 0.0, 0.0, 0.0, 0.0, 0.0, 0.0, 0.0]\n",
            "[0.0, 0.0, 0.0, 0.0, 0.0, 0.0, 0.0, 0.0, 0.0, 0.0, 0.0, 0.0, 0.0, 0.0, 0.0, 0.0, 0.0, 0.0, 0.0, 0.0, 0.0, 0.0, 0.0, 0.0, 0.0, 0.0, 0.0, 0.0, 0.0, 0.0, 0.0, 0.0, 0.0, 0.0, 0.0, 0.0, 0.0, 0.0, 0.0, 0.0, 0.0, 0.0, 0.0, 0.0, 0.0, 0.0, 0.0, 0.0, 0.0, 0.0, 0.0, 0.0, 0.0, 0.0, 0.0, 0.0, 0.0, 0.0, 0.0, 0.0, 0.0, 0.0, 0.0, 0.0, 0.0, 0.0, 0.0, 0.0, 0.0, 0.0, 0.0, 0.0, 0.0, 0.0, 0.0, 0.0, 0.0, 0.0, 0.0, 0.0, 0.0, 0.0, 0.0, 0.0, 0.0, 0.0, 0.0, 0.0, 0.0, 0.0, 0.0, 0.0, 0.0, 0.0, 0.0, 0.0, 0.0, 0.0, 0.0, 0.0, 0.0, 0.0, 0.0, 0.0, 0.0, 0.0, 0.0, 0.0, 0.0, 0.0, 0.0, 0.0, 0.0, 0.0, 0.0, 0.0, 0.0, 0.0, 0.0, 0.0, 0.0, 0.0, 0.0, 0.0, 0.0, 0.0, 0.0, 0.0, 0.0, 0.0, 0.0, 0.0, 0.0, 0.0, 0.0, 0.0, 0.0, 0.0, 0.0, 0.0, 0.0, 0.0, 0.0, 0.0, 0.0, 0.0, 0.0, 0.0, 0.0, 0.0, 0.0, 0.0, 0.0, 0.0, 0.0, 0.0, 0.0, 0.0, 0.0, 0.0, 0.0, 0.0, 0.0, 0.0, 0.0, 0.0, 0.0, 0.0, 0.0, 0.0, 0.0, 0.0, 0.0, 0.0, 0.0, 0.0, 0.0, 0.0, 0.0, 0.0, 0.0, 0.0, 0.0, 0.0, 0.0, 0.0, 0.0, 0.0, 0.0, 0.0, 0.0, 0.0, 0.0, 0.0, 0.0, 0.0, 0.0, 0.0, 0.0, 0.0, 0.0, 0.0, 0.0, 0.0, 0.0, 0.0, 0.0, 0.0, 0.0, 0.0, 0.0, 0.0, 0.0, 0.0, 0.0, 0.0, 0.0, 0.0, 0.0, 0.0, 0.0, 0.0, 0.0, 0.0, 0.0, 0.0, 0.0, 0.0, 0.0, 0.0, 0.0, 0.0, 0.0, 0.0, 0.0, 0.0, 0.0, 0.0, 0.0, 0.0, 0.0, 0.0, 0.0, 0.0, 0.0, 0.0, 0.0, 0.0, 0.0, 0.0, 0.0, 0.0, 0.0, 0.0, 0.0, 0.0, 0.0, 0.0, 0.0, 0.0, 0.0, 0.0, 0.0, 0.0, 0.0, 0.0, 0.0, 0.0, 0.0, 0.0, 0.0, 0.0, 0.0, 0.0, 0.0, 0.0, 0.0, 0.0, 0.0, 0.0, 0.0, 0.0, 0.0, 0.0, 0.0, 0.0, 0.0, 0.0, 0.0, 0.0, 0.0, 0.0, 0.0, 0.0, 0.0, 0.0, 0.0, 0.0, 0.0, 0.0, 0.0, 0.0, 0.0, 0.0, 0.0, 0.0, 0.0, 0.0, 0.0, 0.0, 0.0, 0.0, 0.0, 0.0, 0.0, 0.0, 0.0, 0.0, 0.0, 0.0, 0.0, 0.0, 0.0, 0.0, 0.0, 0.0, 0.0, 0.0, 0.0, 0.0, 0.0, 0.0, 0.0, 0.0, 0.0, 0.0, 0.0, 0.0, 0.0, 0.0, 0.0, 0.0, 0.0, 0.0, 0.0, 0.0, 0.0, 0.0, 0.0, 0.0, 0.0, 0.0, 0.0, 0.0, 0.0, 0.0, 0.0, 0.0, 0.0, 0.0, 0.0, 0.0, 0.0, 0.0, 0.0, 0.0, 0.0, 0.0, 0.0, 0.0, 0.0, 0.0, 0.0, 0.0, 0.0, 0.0, 0.0, 0.0, 0.0, 0.0, 0.0, 0.0, 0.0, 0.0, 0.0, 0.0, 0.0, 0.0, 0.0, 0.0, 0.0, 0.0, 0.0, 0.0, 0.0, 0.0, 0.0, 0.0, 0.0, 0.0, 0.0, 0.0, 0.0, 0.0, 0.0, 0.0, 0.0, 0.0, 0.0, 0.0, 0.0, 0.0, 0.0, 0.0, 0.0, 0.0, 0.0, 0.0, 0.0, 0.0, 0.0, 0.0, 0.0, 0.0, 0.0, 0.0, 0.0, 0.0, 0.0, 0.0, 0.0, 0.0, 0.0, 0.0, 0.0, 0.0, 0.0, 0.0, 0.0, 0.0, 0.0, 0.0, 0.0, 0.0, 0.0, 0.0, 0.0, 0.0, 0.0, 0.0, 0.0, 0.0, 0.0, 0.0, 0.0, 0.0, 0.0, 0.0, 0.0, 0.0, 0.0, 0.0, 0.0, 0.0, 0.0, 0.0, 0.0, 0.0, 0.0, 0.0, 0.0, 0.0, 0.0, 0.0, 0.0, 0.0, 0.0, 0.0, 0.0, 0.0, 0.0, 0.0, 0.0, 0.0, 0.0, 0.0, 0.0, 0.0, 0.0, 0.0, 0.0, 0.0, 0.0, 0.0, 0.0, 0.0, 0.0, 0.0, 0.0, 0.0]\n"
          ],
          "name": "stdout"
        }
      ]
    },
    {
      "cell_type": "code",
      "metadata": {
        "id": "4jNPwoDIapwJ",
        "outputId": "5a1c4f10-c2c2-495d-cd81-7f785645b0c5",
        "colab": {
          "base_uri": "https://localhost:8080/",
          "height": 52
        }
      },
      "source": [
        "#Running ML algorithms. (Naive Bayes) \n",
        "import time\n",
        "from sklearn.naive_bayes import MultinomialNB\n",
        "clf1= MultinomialNB(alpha=1.0)\n",
        "\n",
        "start = time.time()\n",
        "clf1.fit(X_train_tfidf, y_train)\n",
        "end = time.time()\n",
        "\n",
        "print('accuracy: ',clf1.score(X_test_tfidf,y_test))\n",
        "print('Time duration:',str(end - start))\n",
        "#voi du lieu chua giam so chieu, voi so chieu rat lon nhung Naive Bayes train rat nhanh\n",
        "#giam chieu du lieu khong anh huong nhieu den do chinh xac"
      ],
      "execution_count": null,
      "outputs": [
        {
          "output_type": "stream",
          "text": [
            "accuracy:  0.8846153846153846\n",
            "Time duration: 0.06995439529418945\n"
          ],
          "name": "stdout"
        }
      ]
    },
    {
      "cell_type": "code",
      "metadata": {
        "id": "-64BbgK8cTdE",
        "outputId": "060bdedf-6bbc-46c5-9a99-3113eb7dbbef",
        "colab": {
          "base_uri": "https://localhost:8080/",
          "height": 52
        }
      },
      "source": [
        "#Running ML algorithms. (SVM)\n",
        "import time\n",
        "from sklearn import svm\n",
        "start = time.time()\n",
        "clf2 = svm.NuSVC(gamma='auto')\n",
        "clf2.fit(X_train_tfidf, y_train)\n",
        "end = time.time()\n",
        "\n",
        "print('accuracy: ',clf2.score(X_test_tfidf,y_test))\n",
        "print('Time duration:',str(end - start))\n",
        "#SVM so chieu du lieu cang giam -> cang tang do chinh xac ???"
      ],
      "execution_count": null,
      "outputs": [
        {
          "output_type": "stream",
          "text": [
            "accuracy:  0.8013262599469496\n",
            "Time duration: 262.77247762680054\n"
          ],
          "name": "stdout"
        }
      ]
    },
    {
      "cell_type": "code",
      "metadata": {
        "id": "GaQZ27cci0uC"
      },
      "source": [
        "import matplotlib.pyplot as plt\n",
        "plt.style.use('ggplot')\n",
        "\n",
        "def plot_history(history):\n",
        "    acc = history.history['accuracy']\n",
        "    val_acc = history.history['val_accuracy']\n",
        "    loss = history.history['loss']\n",
        "    val_loss = history.history['val_loss']\n",
        "    x = range(1, len(acc) + 1)\n",
        "\n",
        "    plt.figure(figsize=(12, 5))\n",
        "    plt.subplot(1, 2, 1)\n",
        "    plt.plot(x, acc, 'b', label='Training acc')\n",
        "    plt.plot(x, val_acc, 'r', label='Validation acc')\n",
        "    plt.title('Training and validation accuracy')\n",
        "    plt.legend()\n",
        "    plt.subplot(1, 2, 2)\n",
        "    plt.plot(x, loss, 'b', label='Training loss')\n",
        "    plt.plot(x, val_loss, 'r', label='Validation loss')\n",
        "    plt.title('Training and validation loss')\n",
        "    plt.legend()\n",
        "\n",
        "from sklearn.preprocessing import OneHotEncoder\n",
        "\n",
        "def oneHotEnconder(y):\n",
        "  encoder=OneHotEncoder();\n",
        "  y=y.reshape(-1,1);\n",
        "  y=encoder.fit_transform(y);\n",
        "  return y;"
      ],
      "execution_count": null,
      "outputs": []
    },
    {
      "cell_type": "code",
      "metadata": {
        "id": "vn8UvX5Kh8Ea",
        "outputId": "239992d4-ad11-44d6-e0fc-e9187c718b84",
        "colab": {
          "base_uri": "https://localhost:8080/",
          "height": 841
        }
      },
      "source": [
        "#ANN dung  keras\n",
        "from keras.models import Sequential\n",
        "from keras.layers import Dense\n",
        "from keras.optimizers import Adam\n",
        "\n",
        "# Build the model\n",
        "def create_ANN():\n",
        "  model = Sequential()\n",
        "  model.add(Dense(250, input_shape=(20000,), activation='relu', name='fc1'))\n",
        "  model.add(Dense(20, activation='softmax', name='output'))\n",
        "  # Adam optimizer with learning rate of 0.001\n",
        "  optimizer = Adam(lr=0.001)\n",
        "  model.compile(optimizer, loss='categorical_crossentropy', metrics=['accuracy'])\n",
        "  print('Neural Network Model Summary: ')\n",
        "  print(model.summary())\n",
        "  \n",
        "  return model;\n",
        "\n",
        "# Train the model\n",
        "model1=create_ANN();\n",
        "\n",
        "y_train_ann =oneHotEnconder(y_train)\n",
        "y_test_ann  =oneHotEnconder(y_test)\n",
        "\n",
        "history=model1.fit(X_train_tfidf, y_train_ann, verbose=2, batch_size=200, epochs=5,validation_data=(X_test_tfidf, y_test_ann))\n",
        "\n",
        "# Test on unseen data\n",
        "results = model1.evaluate(X_test_tfidf, y_test_ann)\n",
        "\n",
        "print('Final test set loss: {:4f}'.format(results[0]))\n",
        "print('Final test set accuracy: {:4f}'.format(results[1]))\n",
        "plot_history(history)\n"
      ],
      "execution_count": null,
      "outputs": [
        {
          "output_type": "stream",
          "text": [
            "Using TensorFlow backend.\n"
          ],
          "name": "stderr"
        },
        {
          "output_type": "stream",
          "text": [
            "Neural Network Model Summary: \n",
            "Model: \"sequential_1\"\n",
            "_________________________________________________________________\n",
            "Layer (type)                 Output Shape              Param #   \n",
            "=================================================================\n",
            "fc1 (Dense)                  (None, 250)               5000250   \n",
            "_________________________________________________________________\n",
            "output (Dense)               (None, 20)                5020      \n",
            "=================================================================\n",
            "Total params: 5,005,270\n",
            "Trainable params: 5,005,270\n",
            "Non-trainable params: 0\n",
            "_________________________________________________________________\n",
            "None\n",
            "Train on 15076 samples, validate on 3770 samples\n",
            "Epoch 1/5\n",
            " - 11s - loss: 2.3006 - accuracy: 0.7305 - val_loss: 1.3545 - val_accuracy: 0.8841\n",
            "Epoch 2/5\n",
            " - 11s - loss: 0.7471 - accuracy: 0.9359 - val_loss: 0.5649 - val_accuracy: 0.9095\n",
            "Epoch 3/5\n",
            " - 11s - loss: 0.2882 - accuracy: 0.9688 - val_loss: 0.3927 - val_accuracy: 0.9215\n",
            "Epoch 4/5\n",
            " - 11s - loss: 0.1481 - accuracy: 0.9855 - val_loss: 0.3291 - val_accuracy: 0.9276\n",
            "Epoch 5/5\n",
            " - 11s - loss: 0.0846 - accuracy: 0.9926 - val_loss: 0.2989 - val_accuracy: 0.9271\n",
            "3770/3770 [==============================] - 1s 365us/step\n",
            "Final test set loss: 0.298925\n",
            "Final test set accuracy: 0.927056\n"
          ],
          "name": "stdout"
        },
        {
          "output_type": "display_data",
          "data": {
            "image/png": "[encoded data removed]",
            "text/plain": [
              "<Figure size 864x360 with 2 Axes>"
            ]
          },
          "metadata": {
            "tags": []
          }
        }
      ]
    },
    {
      "cell_type": "code",
      "metadata": {
        "id": "1wE3NGR0-N_Q",
        "outputId": "df2978d6-c5fd-4c03-8448-c15eab6f0865",
        "colab": {
          "base_uri": "https://localhost:8080/",
          "height": 1000
        }
      },
      "source": [
        "#CNN\n",
        "from keras.layers import Dense, Conv1D, Flatten,GlobalMaxPooling1D, MaxPooling1D\n",
        "from keras.models import Sequential\n",
        "from keras.optimizers import Adam\n",
        " \n",
        "def create_CNN():\n",
        "  model = Sequential()\n",
        "  model.add(Conv1D(400,1000, strides=500,activation=\"relu\", input_shape=(20000,1)))\n",
        "  model.add(MaxPooling1D(pool_size=2))\n",
        "  model.add(Flatten())\n",
        "  model.add(Dense(20, activation = 'softmax'))\n",
        " \n",
        "  optimizer = Adam(lr=0.001)\n",
        "  model.compile(optimizer, loss='categorical_crossentropy', metrics=['accuracy'])\n",
        "  print('Neural Network Model Summary: ')\n",
        "  print(model.summary())\n",
        " \n",
        "  return model;\n",
        " \n",
        "# Train the model\n",
        "model2=create_CNN();\n",
        "y_train_cnn =oneHotEnconder(y_train)\n",
        "y_test_cnn  =oneHotEnconder(y_test)\n",
        " \n",
        "x_train_array = x_train_array.reshape(x_train_array.shape[0], x_train_array.shape[1], 1) #tensor\n",
        "x_test_array= x_test_array.reshape(x_test_array.shape[0], x_test_array.shape[1], 1) #tensor\n",
        "history=model2.fit(x_train_array, y_train_cnn, verbose=2, batch_size=200, epochs=20,validation_data=(x_test_array, y_test_cnn))\n",
        " \n",
        "# Test on unseen data\n",
        "\n",
        "results = model2.evaluate(x_test_array, y_test_cnn)\n",
        " \n",
        "print('Final test set loss: {:4f}'.format(results[0]))\n",
        "print('Final test set accuracy: {:4f}'.format(results[1]))\n",
        "plot_history(history)"
      ],
      "execution_count": null,
      "outputs": [
        {
          "output_type": "stream",
          "text": [
            "Neural Network Model Summary: \n",
            "Model: \"sequential_2\"\n",
            "_________________________________________________________________\n",
            "Layer (type)                 Output Shape              Param #   \n",
            "=================================================================\n",
            "conv1d_1 (Conv1D)            (None, 39, 400)           400400    \n",
            "_________________________________________________________________\n",
            "max_pooling1d_1 (MaxPooling1 (None, 19, 400)           0         \n",
            "_________________________________________________________________\n",
            "flatten_1 (Flatten)          (None, 7600)              0         \n",
            "_________________________________________________________________\n",
            "dense_1 (Dense)              (None, 20)                152020    \n",
            "=================================================================\n",
            "Total params: 552,420\n",
            "Trainable params: 552,420\n",
            "Non-trainable params: 0\n",
            "_________________________________________________________________\n",
            "None\n",
            "Train on 15076 samples, validate on 3770 samples\n",
            "Epoch 1/20\n",
            " - 24s - loss: 2.9071 - accuracy: 0.2631 - val_loss: 2.6905 - val_accuracy: 0.5403\n",
            "Epoch 2/20\n",
            " - 24s - loss: 2.1732 - accuracy: 0.6455 - val_loss: 1.6700 - val_accuracy: 0.7438\n",
            "Epoch 3/20\n",
            " - 24s - loss: 1.2786 - accuracy: 0.7847 - val_loss: 1.1099 - val_accuracy: 0.7761\n",
            "Epoch 4/20\n",
            " - 24s - loss: 0.8595 - accuracy: 0.8389 - val_loss: 0.8549 - val_accuracy: 0.8178\n",
            "Epoch 5/20\n",
            " - 24s - loss: 0.6352 - accuracy: 0.8778 - val_loss: 0.7220 - val_accuracy: 0.8334\n",
            "Epoch 6/20\n",
            " - 24s - loss: 0.5004 - accuracy: 0.9066 - val_loss: 0.6319 - val_accuracy: 0.8459\n",
            "Epoch 7/20\n",
            " - 24s - loss: 0.4052 - accuracy: 0.9243 - val_loss: 0.5716 - val_accuracy: 0.8576\n",
            "Epoch 8/20\n",
            " - 24s - loss: 0.3328 - accuracy: 0.9390 - val_loss: 0.5346 - val_accuracy: 0.8663\n",
            "Epoch 9/20\n",
            " - 24s - loss: 0.2783 - accuracy: 0.9524 - val_loss: 0.4982 - val_accuracy: 0.8663\n",
            "Epoch 10/20\n",
            " - 24s - loss: 0.2318 - accuracy: 0.9611 - val_loss: 0.4813 - val_accuracy: 0.8732\n",
            "Epoch 11/20\n",
            " - 24s - loss: 0.1971 - accuracy: 0.9698 - val_loss: 0.4543 - val_accuracy: 0.8772\n",
            "Epoch 12/20\n",
            " - 24s - loss: 0.1659 - accuracy: 0.9766 - val_loss: 0.4353 - val_accuracy: 0.8828\n",
            "Epoch 13/20\n",
            " - 24s - loss: 0.1407 - accuracy: 0.9818 - val_loss: 0.4334 - val_accuracy: 0.8796\n",
            "Epoch 14/20\n",
            " - 24s - loss: 0.1216 - accuracy: 0.9863 - val_loss: 0.4090 - val_accuracy: 0.8865\n",
            "Epoch 15/20\n",
            " - 24s - loss: 0.1026 - accuracy: 0.9897 - val_loss: 0.3962 - val_accuracy: 0.8894\n",
            "Epoch 16/20\n",
            " - 24s - loss: 0.0873 - accuracy: 0.9933 - val_loss: 0.3905 - val_accuracy: 0.8923\n",
            "Epoch 17/20\n",
            " - 24s - loss: 0.0754 - accuracy: 0.9952 - val_loss: 0.3834 - val_accuracy: 0.8918\n",
            "Epoch 18/20\n",
            " - 24s - loss: 0.0658 - accuracy: 0.9958 - val_loss: 0.3785 - val_accuracy: 0.8950\n",
            "Epoch 19/20\n",
            " - 24s - loss: 0.0563 - accuracy: 0.9966 - val_loss: 0.3772 - val_accuracy: 0.8926\n",
            "Epoch 20/20\n",
            " - 24s - loss: 0.0490 - accuracy: 0.9975 - val_loss: 0.3715 - val_accuracy: 0.8942\n",
            "3770/3770 [==============================] - 3s 695us/step\n",
            "Final test set loss: 0.371451\n",
            "Final test set accuracy: 0.894164\n"
          ],
          "name": "stdout"
        },
        {
          "output_type": "display_data",
          "data": {
            "image/png": "[encoded data removed]",
            "text/plain": [
              "<Figure size 864x360 with 2 Axes>"
            ]
          },
          "metadata": {
            "tags": []
          }
        }
      ]
    },
    {
      "cell_type": "code",
      "metadata": {
        "id": "8VhWBSYn0XHj",
        "outputId": "4d8008fd-b96f-40a4-eadc-51217b9b0a6f",
        "colab": {
          "base_uri": "https://localhost:8080/",
          "height": 52
        }
      },
      "source": [
        "input=['''\n",
        "        Hello, how are you ?\n",
        "      ''']\n",
        "\n",
        "input=vectorizer.transform(input);\n",
        "output=clf1.predict(input);\n",
        "\n",
        "print(output)\n",
        "print(news.target_names[output[0]])"
      ],
      "execution_count": null,
      "outputs": [
        {
          "output_type": "stream",
          "text": [
            "[1]\n",
            "comp.graphics\n"
          ],
          "name": "stdout"
        }
      ]
    },
    {
      "cell_type": "code",
      "metadata": {
        "id": "wGnJ5gq92RbS",
        "outputId": "7f53ae39-7974-453b-dd43-63afaf185c7b",
        "colab": {
          "base_uri": "https://localhost:8080/",
          "height": 86
        }
      },
      "source": [
        "from scipy.special import softmax\n",
        "\n",
        "output=model1.predict(input)\n",
        "print(output)\n",
        "#print(news.target_names[output[0]])\n"
      ],
      "execution_count": null,
      "outputs": [
        {
          "output_type": "stream",
          "text": [
            "[[0.01203243 0.18351798 0.13295873 0.10403453 0.02610892 0.11727001\n",
            "  0.03439066 0.09568953 0.01872719 0.01452152 0.01280087 0.0125756\n",
            "  0.04825499 0.07298377 0.04362503 0.03075864 0.01399799 0.00793825\n",
            "  0.00758355 0.0102299 ]]\n"
          ],
          "name": "stdout"
        }
      ]
    }
  ]
}